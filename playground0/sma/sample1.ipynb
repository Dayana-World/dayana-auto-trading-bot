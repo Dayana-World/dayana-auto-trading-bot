{
 "cells": [
  {
   "attachments": {},
   "cell_type": "markdown",
   "metadata": {},
   "source": [
    "# imports Part:"
   ]
  },
  {
   "cell_type": "code",
   "execution_count": 1,
   "metadata": {},
   "outputs": [],
   "source": [
    "import MetaTrader5 as mt5\n",
    "from datetime import datetime\n",
    "# pandas added to analize and convert output result, to be more human-reable\n",
    "import pandas as pd"
   ]
  },
  {
   "attachments": {},
   "cell_type": "markdown",
   "metadata": {},
   "source": [
    "# connect  to  mt5:"
   ]
  },
  {
   "cell_type": "code",
   "execution_count": 2,
   "metadata": {},
   "outputs": [],
   "source": [
    "# this line's are just like the try/catch in C# or try/except in python\n",
    "if not mt5.initialize():\n",
    "    print(\"initialize() failed, error code =\",mt5.last_error())\n",
    "    quit()"
   ]
  },
  {
   "cell_type": "code",
   "execution_count": 3,
   "metadata": {},
   "outputs": [
    {
     "name": "stdout",
     "output_type": "stream",
     "text": [
      "[(1678060800, 144.341, 145.379, 144.115, 145.216, 126883, 6, 0)\n",
      " (1678147200, 145.183, 145.438, 144.556, 144.694, 151325, 5, 0)\n",
      " (1678233600, 144.671, 145.232, 144.234, 144.859, 120525, 5, 0)\n",
      " (1678320000, 144.797, 144.806, 143.617, 144.034, 111644, 3, 0)\n",
      " (1678406400, 144.069, 145.106, 143.346, 143.686, 208094, 4, 0)\n",
      " (1678665600, 143.172, 144.386, 141.371, 142.905, 285356, 4, 0)\n",
      " (1678752000, 142.895, 144.409, 142.534, 144.059, 215767, 3, 0)\n",
      " (1678838400, 144.055, 144.964, 139.476, 141.002, 269782, 4, 0)\n",
      " (1678924800, 141.   , 142.003, 139.124, 141.754, 231543, 4, 0)\n",
      " (1679011200, 141.753, 142.215, 140.156, 140.596, 181204, 4, 0)]\n"
     ]
    }
   ],
   "source": [
    "# get 10 GBPUSD D1 bars from the current day\n",
    "rates = mt5.copy_rates_from_pos(\"EURJPY\", mt5.TIMEFRAME_D1, 0, 10)\n",
    "print(rates)\n",
    "# shut down connection to the MetaTrader 5 terminal\n",
    "#mt5.shutdown()"
   ]
  },
  {
   "cell_type": "code",
   "execution_count": 14,
   "metadata": {},
   "outputs": [
    {
     "name": "stdout",
     "output_type": "stream",
     "text": [
      "Symbols:  104\n",
      "1. EURUSD\n",
      "2. GBPUSD\n",
      "3. USDCHF\n",
      "4. USDJPY\n",
      "5. USDCNH\n",
      "\n"
     ]
    }
   ],
   "source": [
    "# get all symbols\n",
    "symbols=mt5.symbols_get()\n",
    "print('Symbols: ', len(symbols))\n",
    "count=0\n",
    "# display the first five ones\n",
    "for s in symbols:\n",
    "    count+=1\n",
    "    print(\"{}. {}\".format(count,s.name))\n",
    "    if count==5: break\n",
    "print()"
   ]
  },
  {
   "cell_type": "code",
   "execution_count": null,
   "metadata": {},
   "outputs": [],
   "source": [
    "# get symbols containing RU in their names\n",
    "ru_symbols=mt5.symbols_get(\"*RU*\")\n",
    "print('len(*RU*): ', len(ru_symbols))\n",
    "for s in ru_symbols:\n",
    "    print(s.name)\n",
    "print()"
   ]
  },
  {
   "cell_type": "code",
   "execution_count": null,
   "metadata": {},
   "outputs": [],
   "source": [
    "# get symbols whose names do not contain USD, EUR, JPY and GBP\n",
    "group_symbols=mt5.symbols_get(group=\"*,!*USD*,!*EUR*,!*JPY*,!*GBP*\")\n",
    "print('len(*,!*USD*,!*EUR*,!*JPY*,!*GBP*):', len(group_symbols))\n",
    "for s in group_symbols:\n",
    "    print(s.name,\":\",s)"
   ]
  },
  {
   "cell_type": "code",
   "execution_count": 17,
   "metadata": {},
   "outputs": [
    {
     "name": "stdout",
     "output_type": "stream",
     "text": [
      "True\n"
     ]
    }
   ],
   "source": [
    "# attempt to enable the display of the EURJPY symbol in MarketWatch\n",
    "selected=mt5.symbol_select(\"EURJPY\",True)\n",
    "if not selected:\n",
    "    print(\"Failed to select EURJPY\")\n",
    "    mt5.shutdown()\n",
    "    quit()\n",
    "print(str(selected))"
   ]
  },
  {
   "cell_type": "code",
   "execution_count": 18,
   "metadata": {},
   "outputs": [
    {
     "name": "stdout",
     "output_type": "stream",
     "text": [
      "SymbolInfo(custom=False, chart_mode=0, select=True, visible=True, session_deals=0, session_buy_orders=0, session_sell_orders=0, volume=0, volumehigh=0, volumelow=0, time=1679093699, digits=3, spread=12, spread_float=True, ticks_bookdepth=10, trade_calc_mode=0, trade_mode=4, start_time=0, expiration_time=0, trade_stops_level=0, trade_freeze_level=0, trade_exemode=1, swap_mode=1, swap_rollover3days=3, margin_hedged_use_leg=False, expiration_mode=7, filling_mode=1, order_mode=127, order_gtc_mode=0, option_mode=0, option_right=0, bid=140.596, bidhigh=142.215, bidlow=140.156, ask=140.608, askhigh=142.222, asklow=140.163, last=0.0, lasthigh=0.0, lastlow=0.0, volume_real=0.0, volumehigh_real=0.0, volumelow_real=0.0, option_strike=0.0, point=0.001, trade_tick_value=0.7585584355490825, trade_tick_value_profit=0.7585584355490825, trade_tick_value_loss=0.7586102260658474, trade_tick_size=0.001, trade_contract_size=100000.0, trade_accrued_interest=0.0, trade_face_value=0.0, trade_liquidity_rate=0.0, volume_min=0.01, volume_max=500.0, volume_step=0.01, volume_limit=0.0, swap_long=-0.2, swap_short=-1.2, margin_initial=0.0, margin_maintenance=0.0, session_volume=0.0, session_turnover=0.0, session_interest=0.0, session_buy_orders_volume=0.0, session_sell_orders_volume=0.0, session_open=141.758, session_close=141.743, session_aw=0.0, session_price_settlement=0.0, session_price_limit_min=0.0, session_price_limit_max=0.0, margin_hedged=100000.0, price_change=-0.8092, price_volatility=0.0, price_theoretical=0.0, price_greeks_delta=0.0, price_greeks_theta=0.0, price_greeks_gamma=0.0, price_greeks_vega=0.0, price_greeks_rho=0.0, price_greeks_omega=0.0, price_sensitivity=0.0, basis='', category='', currency_base='EUR', currency_profit='JPY', currency_margin='EUR', bank='', description='Euro vs Yen', exchange='', formula='', isin='', name='EURJPY', page='http://www.google.com/finance?q=EURJPY', path='Forex\\\\EURJPY')\n",
      "EURJPY: spread = 12   digits = 3\n",
      "Show symbol_info(\"EURJPY\")._asdict():\n",
      "  custom=False\n",
      "  chart_mode=0\n",
      "  select=True\n",
      "  visible=True\n",
      "  session_deals=0\n",
      "  session_buy_orders=0\n",
      "  session_sell_orders=0\n",
      "  volume=0\n",
      "  volumehigh=0\n",
      "  volumelow=0\n",
      "  time=1679093699\n",
      "  digits=3\n",
      "  spread=12\n",
      "  spread_float=True\n",
      "  ticks_bookdepth=10\n",
      "  trade_calc_mode=0\n",
      "  trade_mode=4\n",
      "  start_time=0\n",
      "  expiration_time=0\n",
      "  trade_stops_level=0\n",
      "  trade_freeze_level=0\n",
      "  trade_exemode=1\n",
      "  swap_mode=1\n",
      "  swap_rollover3days=3\n",
      "  margin_hedged_use_leg=False\n",
      "  expiration_mode=7\n",
      "  filling_mode=1\n",
      "  order_mode=127\n",
      "  order_gtc_mode=0\n",
      "  option_mode=0\n",
      "  option_right=0\n",
      "  bid=140.596\n",
      "  bidhigh=142.215\n",
      "  bidlow=140.156\n",
      "  ask=140.608\n",
      "  askhigh=142.222\n",
      "  asklow=140.163\n",
      "  last=0.0\n",
      "  lasthigh=0.0\n",
      "  lastlow=0.0\n",
      "  volume_real=0.0\n",
      "  volumehigh_real=0.0\n",
      "  volumelow_real=0.0\n",
      "  option_strike=0.0\n",
      "  point=0.001\n",
      "  trade_tick_value=0.7585584355490825\n",
      "  trade_tick_value_profit=0.7585584355490825\n",
      "  trade_tick_value_loss=0.7586102260658474\n",
      "  trade_tick_size=0.001\n",
      "  trade_contract_size=100000.0\n",
      "  trade_accrued_interest=0.0\n",
      "  trade_face_value=0.0\n",
      "  trade_liquidity_rate=0.0\n",
      "  volume_min=0.01\n",
      "  volume_max=500.0\n",
      "  volume_step=0.01\n",
      "  volume_limit=0.0\n",
      "  swap_long=-0.2\n",
      "  swap_short=-1.2\n",
      "  margin_initial=0.0\n",
      "  margin_maintenance=0.0\n",
      "  session_volume=0.0\n",
      "  session_turnover=0.0\n",
      "  session_interest=0.0\n",
      "  session_buy_orders_volume=0.0\n",
      "  session_sell_orders_volume=0.0\n",
      "  session_open=141.758\n",
      "  session_close=141.743\n",
      "  session_aw=0.0\n",
      "  session_price_settlement=0.0\n",
      "  session_price_limit_min=0.0\n",
      "  session_price_limit_max=0.0\n",
      "  margin_hedged=100000.0\n",
      "  price_change=-0.8092\n",
      "  price_volatility=0.0\n",
      "  price_theoretical=0.0\n",
      "  price_greeks_delta=0.0\n",
      "  price_greeks_theta=0.0\n",
      "  price_greeks_gamma=0.0\n",
      "  price_greeks_vega=0.0\n",
      "  price_greeks_rho=0.0\n",
      "  price_greeks_omega=0.0\n",
      "  price_sensitivity=0.0\n",
      "  basis=\n",
      "  category=\n",
      "  currency_base=EUR\n",
      "  currency_profit=JPY\n",
      "  currency_margin=EUR\n",
      "  bank=\n",
      "  description=Euro vs Yen\n",
      "  exchange=\n",
      "  formula=\n",
      "  isin=\n",
      "  name=EURJPY\n",
      "  page=http://www.google.com/finance?q=EURJPY\n",
      "  path=Forex\\EURJPY\n"
     ]
    }
   ],
   "source": [
    "# display EURJPY symbol properties\n",
    "symbol_info=mt5.symbol_info(\"EURJPY\")\n",
    "if symbol_info!=None:\n",
    "    # display the terminal data 'as is'    \n",
    "    print(symbol_info)\n",
    "    print(\"EURJPY: spread =\",symbol_info.spread,\"  digits =\",symbol_info.digits)\n",
    "    # display symbol properties as a list\n",
    "    print(\"Show symbol_info(\\\"EURJPY\\\")._asdict():\")\n",
    "    symbol_info_dict = mt5.symbol_info(\"EURJPY\")._asdict()\n",
    "    for prop in symbol_info_dict:\n",
    "        print(\"  {}={}\".format(prop, symbol_info_dict[prop]))"
   ]
  },
  {
   "cell_type": "code",
   "execution_count": 19,
   "metadata": {},
   "outputs": [
    {
     "name": "stdout",
     "output_type": "stream",
     "text": [
      "Tick(time=1679093699, bid=1.21761, ask=1.21773, last=0.0, volume=0, time_msc=1679093699897, flags=6, volume_real=0.0)\n",
      "Show symbol_info_tick(\"GBPUSD\")._asdict():\n",
      "  time=1679093699\n",
      "  bid=1.21761\n",
      "  ask=1.21773\n",
      "  last=0.0\n",
      "  volume=0\n",
      "  time_msc=1679093699897\n",
      "  flags=6\n",
      "  volume_real=0.0\n"
     ]
    }
   ],
   "source": [
    "selected=mt5.symbol_select(\"GBPUSD\",True)\n",
    "if not selected:\n",
    "    print(\"Failed to select GBPUSD\")\n",
    "    mt5.shutdown()\n",
    "    quit()\n",
    " \n",
    "# display the last GBPUSD tick\n",
    "lasttick=mt5.symbol_info_tick(\"GBPUSD\")\n",
    "print(lasttick)\n",
    "# display tick field values in the form of a list\n",
    "print(\"Show symbol_info_tick(\\\"GBPUSD\\\")._asdict():\")\n",
    "symbol_info_tick_dict = mt5.symbol_info_tick(\"GBPUSD\")._asdict()\n",
    "for prop in symbol_info_tick_dict:\n",
    "    print(\"  {}={}\".format(prop, symbol_info_tick_dict[prop]))"
   ]
  },
  {
   "cell_type": "code",
   "execution_count": 4,
   "metadata": {},
   "outputs": [
    {
     "name": "stdout",
     "output_type": "stream",
     "text": [
      "SymbolInfo(custom=False, chart_mode=0, select=True, visible=True, session_deals=0, session_buy_orders=0, session_sell_orders=0, volume=0, volumehigh=0, volumelow=0, time=1679308292, digits=5, spread=17, spread_float=True, ticks_bookdepth=10, trade_calc_mode=0, trade_mode=4, start_time=0, expiration_time=0, trade_stops_level=0, trade_freeze_level=0, trade_exemode=1, swap_mode=1, swap_rollover3days=3, margin_hedged_use_leg=False, expiration_mode=7, filling_mode=1, order_mode=127, order_gtc_mode=0, option_mode=0, option_right=0, bid=1.46033, bidhigh=1.46542, bidlow=1.46011, ask=1.4605000000000001, askhigh=1.46679, asklow=1.46028, last=0.0, lasthigh=0.0, lastlow=0.0, volume_real=0.0, volumehigh_real=0.0, volumelow_real=0.0, option_strike=0.0, point=1e-05, trade_tick_value=0.7281199941750401, trade_tick_value_profit=0.7281199941750401, trade_tick_value_loss=0.7281412011417255, trade_tick_size=1e-05, trade_contract_size=100000.0, trade_accrued_interest=0.0, trade_face_value=0.0, trade_liquidity_rate=0.0, volume_min=0.01, volume_max=500.0, volume_step=0.01, volume_limit=0.0, swap_long=-1.1, swap_short=-0.9, margin_initial=0.0, margin_maintenance=0.0, session_volume=0.0, session_turnover=0.0, session_interest=0.0, session_buy_orders_volume=0.0, session_sell_orders_volume=0.0, session_open=1.46484, session_close=1.46485, session_aw=0.0, session_price_settlement=0.0, session_price_limit_min=0.0, session_price_limit_max=0.0, margin_hedged=100000.0, price_change=-0.3086, price_volatility=0.0, price_theoretical=0.0, price_greeks_delta=0.0, price_greeks_theta=0.0, price_greeks_gamma=0.0, price_greeks_vega=0.0, price_greeks_rho=0.0, price_greeks_omega=0.0, price_sensitivity=0.0, basis='', category='', currency_base='EUR', currency_profit='CAD', currency_margin='EUR', bank='', description='Euro vs Canadian Dollar', exchange='', formula='', isin='', name='EURCAD', page='http://www.google.com/finance?q=EURCAD', path='Forex\\\\EURCAD')\n",
      "EURCAD: currency_base = EUR   currency_profit = CAD   currency_margin = EUR\n",
      "\n",
      "Show symbol_info()._asdict():\n",
      "  custom=False\n",
      "  chart_mode=0\n",
      "  select=True\n",
      "  visible=True\n",
      "  session_deals=0\n",
      "  session_buy_orders=0\n",
      "  session_sell_orders=0\n",
      "  volume=0\n",
      "  volumehigh=0\n",
      "  volumelow=0\n",
      "  time=1679308292\n",
      "  digits=5\n",
      "  spread=17\n",
      "  spread_float=True\n",
      "  ticks_bookdepth=10\n",
      "  trade_calc_mode=0\n",
      "  trade_mode=4\n",
      "  start_time=0\n",
      "  expiration_time=0\n",
      "  trade_stops_level=0\n",
      "  trade_freeze_level=0\n",
      "  trade_exemode=1\n",
      "  swap_mode=1\n",
      "  swap_rollover3days=3\n",
      "  margin_hedged_use_leg=False\n",
      "  expiration_mode=7\n",
      "  filling_mode=1\n",
      "  order_mode=127\n",
      "  order_gtc_mode=0\n",
      "  option_mode=0\n",
      "  option_right=0\n",
      "  bid=1.46033\n",
      "  bidhigh=1.46542\n",
      "  bidlow=1.46011\n",
      "  ask=1.4605000000000001\n",
      "  askhigh=1.46679\n",
      "  asklow=1.46028\n",
      "  last=0.0\n",
      "  lasthigh=0.0\n",
      "  lastlow=0.0\n",
      "  volume_real=0.0\n",
      "  volumehigh_real=0.0\n",
      "  volumelow_real=0.0\n",
      "  option_strike=0.0\n",
      "  point=1e-05\n",
      "  trade_tick_value=0.7281199941750401\n",
      "  trade_tick_value_profit=0.7281199941750401\n",
      "  trade_tick_value_loss=0.7281412011417255\n",
      "  trade_tick_size=1e-05\n",
      "  trade_contract_size=100000.0\n",
      "  trade_accrued_interest=0.0\n",
      "  trade_face_value=0.0\n",
      "  trade_liquidity_rate=0.0\n",
      "  volume_min=0.01\n",
      "  volume_max=500.0\n",
      "  volume_step=0.01\n",
      "  volume_limit=0.0\n",
      "  swap_long=-1.1\n",
      "  swap_short=-0.9\n",
      "  margin_initial=0.0\n",
      "  margin_maintenance=0.0\n",
      "  session_volume=0.0\n",
      "  session_turnover=0.0\n",
      "  session_interest=0.0\n",
      "  session_buy_orders_volume=0.0\n",
      "  session_sell_orders_volume=0.0\n",
      "  session_open=1.46484\n",
      "  session_close=1.46485\n",
      "  session_aw=0.0\n",
      "  session_price_settlement=0.0\n",
      "  session_price_limit_min=0.0\n",
      "  session_price_limit_max=0.0\n",
      "  margin_hedged=100000.0\n",
      "  price_change=-0.3086\n",
      "  price_volatility=0.0\n",
      "  price_theoretical=0.0\n",
      "  price_greeks_delta=0.0\n",
      "  price_greeks_theta=0.0\n",
      "  price_greeks_gamma=0.0\n",
      "  price_greeks_vega=0.0\n",
      "  price_greeks_rho=0.0\n",
      "  price_greeks_omega=0.0\n",
      "  price_sensitivity=0.0\n",
      "  basis=\n",
      "  category=\n",
      "  currency_base=EUR\n",
      "  currency_profit=CAD\n",
      "  currency_margin=EUR\n",
      "  bank=\n",
      "  description=Euro vs Canadian Dollar\n",
      "  exchange=\n",
      "  formula=\n",
      "  isin=\n",
      "  name=EURCAD\n",
      "  page=http://www.google.com/finance?q=EURCAD\n",
      "  path=Forex\\EURCAD\n",
      "\n",
      "symbol_info_dict() as dataframe:\n",
      "         property                                   value\n",
      "0          custom                                   False\n",
      "1      chart_mode                                       0\n",
      "2          select                                    True\n",
      "3         visible                                    True\n",
      "4   session_deals                                       0\n",
      "..            ...                                     ...\n",
      "91        formula                                        \n",
      "92           isin                                        \n",
      "93           name                                  EURCAD\n",
      "94           page  http://www.google.com/finance?q=EURCAD\n",
      "95           path                            Forex\\EURCAD\n",
      "\n",
      "[96 rows x 2 columns]\n"
     ]
    }
   ],
   "source": [
    "import pandas as pd\n",
    "\n",
    "# attempt to enable the display of the EURCAD in MarketWatch\n",
    "selected=mt5.symbol_select(\"EURCAD\",True)\n",
    "if not selected:\n",
    "    print(\"Failed to select EURCAD, error code =\",mt5.last_error())\n",
    "else:\n",
    "    symbol_info=mt5.symbol_info(\"EURCAD\")\n",
    "    print(symbol_info)\n",
    "    print(\"EURCAD: currency_base =\",symbol_info.currency_base,\"  currency_profit =\",symbol_info.currency_profit,\"  currency_margin =\",symbol_info.currency_margin)\n",
    "    print()\n",
    " \n",
    "    # get symbol properties in the form of a dictionary\n",
    "    print(\"Show symbol_info()._asdict():\")\n",
    "    symbol_info_dict = symbol_info._asdict()\n",
    "    for prop in symbol_info_dict:\n",
    "        print(\"  {}={}\".format(prop, symbol_info_dict[prop]))\n",
    "    print()\n",
    " \n",
    "    # convert the dictionary into DataFrame and print\n",
    "    df=pd.DataFrame(list(symbol_info_dict.items()),columns=['property','value'])\n",
    "    print(\"symbol_info_dict() as dataframe:\")\n",
    "    print(df)"
   ]
  },
  {
   "cell_type": "code",
   "execution_count": null,
   "metadata": {},
   "outputs": [],
   "source": [
    "import time\n",
    "# subscribe to market depth updates for EURUSD (Depth of Market)\n",
    "#if mt5.market_book_add('USDRUB'):\n",
    "  # get the market depth data 10 times in a loop\n",
    "for i in range(10):\n",
    "        # get the market depth content (Depth of Market)\n",
    "    items = mt5.market_book_get('USDRUB')\n",
    "        # display the entire market depth 'as is' in a single string\n",
    "    print(items)\n",
    "        # now display each order separately for more clarity\n",
    "    if items:\n",
    "        for it in items:\n",
    "                # order content\n",
    "            print(it._asdict())\n",
    "        # pause for 5 seconds before the next request of the market depth data\n",
    "        time.sleep(5)\n",
    "  # cancel the subscription to the market depth updates (Depth of Market)\n",
    "    mt5.market_book_release('USDRUB')\n",
    "# else:\n",
    "#     print(\"mt5.market_book_add('USDRUB') failed, error code =\",mt5.last_error())\n",
    " "
   ]
  },
  {
   "cell_type": "code",
   "execution_count": null,
   "metadata": {},
   "outputs": [],
   "source": [
    "\n",
    "# display data on the MetaTrader 5 package\n",
    "print(\"MetaTrader5 package author: \",mt5.__author__)\n",
    "print(\"MetaTrader5 package version: \",mt5.__version__)\n",
    " \n",
    "# import the 'pandas' module for displaying data obtained in the tabular form\n",
    "import pandas as pd\n",
    "pd.set_option('display.max_columns', 500) # number of columns to be displayed\n",
    "pd.set_option('display.width', 1500)      # max table width to display\n",
    "# import pytz module for working with time zone\n",
    "import pytz\n",
    " \n",
    "# establish connection to MetaTrader 5 terminal\n",
    "if not mt5.initialize():\n",
    "    print(\"initialize() failed, error code =\",mt5.last_error())\n",
    "    quit()\n",
    " \n",
    "# set time zone to UTC\n",
    "timezone = pytz.timezone(\"Etc/UTC\")\n",
    "# create 'datetime' object in UTC time zone to avoid the implementation of a local time zone offset\n",
    "utc_from = datetime(2020, 1, 10, tzinfo=timezone)\n",
    "# get 10 EURUSD H4 bars starting from 01.10.2020 in UTC time zone\n",
    "rates = mt5.copy_rates_from(\"EURUSD\", mt5.TIMEFRAME_H4, utc_from, 10)\n",
    " \n",
    "# shut down connection to the MetaTrader 5 terminal\n",
    "#mt5.shutdown()\n",
    "# display each element of obtained data in a new line\n",
    "print(\"Display obtained data 'as is'\")\n",
    "for rate in rates:\n",
    "    print(rate)\n",
    " \n",
    "# create DataFrame out of the obtained data\n",
    "rates_frame = pd.DataFrame(rates)\n",
    "# convert time in seconds into the datetime format\n",
    "rates_frame['time']=pd.to_datetime(rates_frame['time'], unit='s')\n",
    "                           \n",
    "# display data\n",
    "print(\"\\nDisplay dataframe with data\")\n",
    "print(rates_frame)  "
   ]
  },
  {
   "cell_type": "code",
   "execution_count": 27,
   "metadata": {},
   "outputs": [
    {
     "name": "stdout",
     "output_type": "stream",
     "text": [
      "Display obtained data 'as is'\n",
      "(1578484800, 1.11382, 1.11385, 1.1111, 1.11199, 9354, 1, 0)\n",
      "(1578499200, 1.11199, 1.11308, 1.11086, 1.11179, 10641, 1, 0)\n",
      "(1578513600, 1.11178, 1.11178, 1.11016, 1.11053, 4806, 1, 0)\n",
      "(1578528000, 1.11053, 1.11193, 1.11033, 1.11173, 3480, 1, 0)\n",
      "(1578542400, 1.11173, 1.11189, 1.11126, 1.11182, 2236, 1, 0)\n",
      "(1578556800, 1.11181, 1.11203, 1.10983, 1.10993, 7984, 1, 0)\n",
      "(1578571200, 1.10994, 1.11173, 1.10965, 1.11148, 7406, 1, 0)\n",
      "(1578585600, 1.11149, 1.11149, 1.10923, 1.11046, 7468, 1, 0)\n",
      "(1578600000, 1.11046, 1.11097, 1.11033, 1.11051, 3450, 1, 0)\n",
      "(1578614400, 1.11051, 1.11093, 1.11017, 1.11041, 2448, 1, 0)\n"
     ]
    }
   ],
   "source": [
    "# display each element of obtained data in a new line\n",
    "print(\"Display obtained data 'as is'\")\n",
    "for rate in rates:\n",
    "    print(rate)             "
   ]
  },
  {
   "cell_type": "code",
   "execution_count": 28,
   "metadata": {},
   "outputs": [
    {
     "name": "stdout",
     "output_type": "stream",
     "text": [
      "\n",
      "Display dataframe with data\n",
      "                 time     open     high      low    close  tick_volume  spread  real_volume\n",
      "0 2020-01-08 12:00:00  1.11382  1.11385  1.11110  1.11199         9354       1            0\n",
      "1 2020-01-08 16:00:00  1.11199  1.11308  1.11086  1.11179        10641       1            0\n",
      "2 2020-01-08 20:00:00  1.11178  1.11178  1.11016  1.11053         4806       1            0\n",
      "3 2020-01-09 00:00:00  1.11053  1.11193  1.11033  1.11173         3480       1            0\n",
      "4 2020-01-09 04:00:00  1.11173  1.11189  1.11126  1.11182         2236       1            0\n",
      "5 2020-01-09 08:00:00  1.11181  1.11203  1.10983  1.10993         7984       1            0\n",
      "6 2020-01-09 12:00:00  1.10994  1.11173  1.10965  1.11148         7406       1            0\n",
      "7 2020-01-09 16:00:00  1.11149  1.11149  1.10923  1.11046         7468       1            0\n",
      "8 2020-01-09 20:00:00  1.11046  1.11097  1.11033  1.11051         3450       1            0\n",
      "9 2020-01-10 00:00:00  1.11051  1.11093  1.11017  1.11041         2448       1            0\n"
     ]
    }
   ],
   "source": [
    "\n",
    "# create DataFrame out of the obtained data\n",
    "rates_frame = pd.DataFrame(rates)\n",
    "# convert time in seconds into the datetime format\n",
    "rates_frame['time']=pd.to_datetime(rates_frame['time'], unit='s')\n",
    " \n",
    "# display data\n",
    "print(\"\\nDisplay dataframe with data\")\n",
    "print(rates_frame) "
   ]
  },
  {
   "cell_type": "code",
   "execution_count": 29,
   "metadata": {},
   "outputs": [
    {
     "name": "stdout",
     "output_type": "stream",
     "text": [
      "\n",
      "Display dataframe with data\n",
      "                 time     open     high      low    close  tick_volume  spread  real_volume\n",
      "0 2020-01-08 12:00:00  1.11382  1.11385  1.11110  1.11199         9354       1            0\n",
      "1 2020-01-08 16:00:00  1.11199  1.11308  1.11086  1.11179        10641       1            0\n",
      "2 2020-01-08 20:00:00  1.11178  1.11178  1.11016  1.11053         4806       1            0\n",
      "3 2020-01-09 00:00:00  1.11053  1.11193  1.11033  1.11173         3480       1            0\n",
      "4 2020-01-09 04:00:00  1.11173  1.11189  1.11126  1.11182         2236       1            0\n",
      "5 2020-01-09 08:00:00  1.11181  1.11203  1.10983  1.10993         7984       1            0\n",
      "6 2020-01-09 12:00:00  1.10994  1.11173  1.10965  1.11148         7406       1            0\n",
      "7 2020-01-09 16:00:00  1.11149  1.11149  1.10923  1.11046         7468       1            0\n",
      "8 2020-01-09 20:00:00  1.11046  1.11097  1.11033  1.11051         3450       1            0\n",
      "9 2020-01-10 00:00:00  1.11051  1.11093  1.11017  1.11041         2448       1            0\n"
     ]
    }
   ],
   "source": [
    "\n",
    "# create DataFrame out of the obtained data\n",
    "rates_frame = pd.DataFrame(rates)\n",
    "# convert time in seconds into the datetime format\n",
    "rates_frame['time']=pd.to_datetime(rates_frame['time'], unit='s')\n",
    "  \n",
    "# display data\n",
    "print(\"\\nDisplay dataframe with data\")\n",
    "print(rates_frame) "
   ]
  }
 ],
 "metadata": {
  "kernelspec": {
   "display_name": ".venv",
   "language": "python",
   "name": "python3"
  },
  "language_info": {
   "codemirror_mode": {
    "name": "ipython",
    "version": 3
   },
   "file_extension": ".py",
   "mimetype": "text/x-python",
   "name": "python",
   "nbconvert_exporter": "python",
   "pygments_lexer": "ipython3",
   "version": "3.10.0"
  },
  "orig_nbformat": 4
 },
 "nbformat": 4,
 "nbformat_minor": 2
}
