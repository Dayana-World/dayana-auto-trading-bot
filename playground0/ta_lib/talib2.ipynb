{
 "cells": [
  {
   "attachments": {},
   "cell_type": "markdown",
   "metadata": {},
   "source": [
    "Simple Data - Simple strategy - Simple Code"
   ]
  },
  {
   "cell_type": "code",
   "execution_count": 25,
   "metadata": {},
   "outputs": [],
   "source": [
    "\n",
    "import numpy as np\n",
    "import talib as ta \n",
    "import matplotlib.pyplot as plt\n",
    "import yfinance as yf \n"
   ]
  },
  {
   "cell_type": "code",
   "execution_count": 26,
   "metadata": {},
   "outputs": [
    {
     "name": "stdout",
     "output_type": "stream",
     "text": [
      "[*********************100%***********************]  1 of 1 completed\n"
     ]
    }
   ],
   "source": [
    "#config style and data\n",
    "plt.style.use('bmh')\n",
    "aapl = yf.download('AAPL', '2019-1-1','2019-12-27')"
   ]
  },
  {
   "cell_type": "code",
   "execution_count": 32,
   "metadata": {},
   "outputs": [],
   "source": [
    "# Define the closing prices\n",
    "#close_prices = np.array([10, 20, 30, 40, 50, 60, 70, 80, 90, 100])\n",
    "close_prices = np.array([10, 20, 30, 40, 50, 60, 70, 80, 90, 100], dtype=\"float\")"
   ]
  },
  {
   "cell_type": "code",
   "execution_count": 28,
   "metadata": {},
   "outputs": [],
   "source": [
    "# Calculate the EMA with a time period of 5\n",
    "ema = ta.EMA(close_prices, timeperiod=5)\n"
   ]
  },
  {
   "cell_type": "code",
   "execution_count": 22,
   "metadata": {},
   "outputs": [
    {
     "name": "stdout",
     "output_type": "stream",
     "text": [
      "[nan nan nan nan 30. 40. 50. 60. 70. 80.]\n"
     ]
    }
   ],
   "source": [
    "# Print the EMA values\n",
    "print(ema)"
   ]
  },
  {
   "cell_type": "code",
   "execution_count": 31,
   "metadata": {},
   "outputs": [
    {
     "ename": "AttributeError",
     "evalue": "'list' object has no attribute 'plot'",
     "output_type": "error",
     "traceback": [
      "\u001b[1;31m---------------------------------------------------------------------------\u001b[0m",
      "\u001b[1;31mAttributeError\u001b[0m                            Traceback (most recent call last)",
      "Cell \u001b[1;32mIn[31], line 5\u001b[0m\n\u001b[0;32m      2\u001b[0m aapl[\u001b[39m'\u001b[39m\u001b[39mEMA\u001b[39m\u001b[39m'\u001b[39m] \u001b[39m=\u001b[39m ta\u001b[39m.\u001b[39mEMA(aapl[\u001b[39m'\u001b[39m\u001b[39mClose\u001b[39m\u001b[39m'\u001b[39m], timeperiod \u001b[39m=\u001b[39m \u001b[39m14\u001b[39m)\n\u001b[0;32m      4\u001b[0m \u001b[39m# Plot aapl\u001b[39;00m\n\u001b[1;32m----> 5\u001b[0m [\u001b[39m'\u001b[39;49m\u001b[39mClose\u001b[39;49m\u001b[39m'\u001b[39;49m,\u001b[39m'\u001b[39;49m\u001b[39mSimple MA\u001b[39;49m\u001b[39m'\u001b[39;49m,\u001b[39m'\u001b[39;49m\u001b[39mEMA\u001b[39;49m\u001b[39m'\u001b[39;49m]\u001b[39m.\u001b[39;49mplot(figsize\u001b[39m=\u001b[39m(\u001b[39m15\u001b[39m,\u001b[39m15\u001b[39m)) \n\u001b[0;32m      6\u001b[0m plt\u001b[39m.\u001b[39mshow()\n",
      "\u001b[1;31mAttributeError\u001b[0m: 'list' object has no attribute 'plot'"
     ]
    }
   ],
   "source": [
    "aapl['Simple MA'] = ta.SMA(aapl['Close'],14)\n",
    "aapl['EMA'] = ta.EMA(aapl['Close'], timeperiod = 14)\n",
    "\n",
    "# Plot aapl\n",
    "['Close','Simple MA','EMA'].plot(figsize=(15,15)) \n",
    "plt.show()"
   ]
  }
 ],
 "metadata": {
  "kernelspec": {
   "display_name": ".venv",
   "language": "python",
   "name": "python3"
  },
  "language_info": {
   "codemirror_mode": {
    "name": "ipython",
    "version": 3
   },
   "file_extension": ".py",
   "mimetype": "text/x-python",
   "name": "python",
   "nbconvert_exporter": "python",
   "pygments_lexer": "ipython3",
   "version": "3.10.0"
  },
  "orig_nbformat": 4
 },
 "nbformat": 4,
 "nbformat_minor": 2
}
